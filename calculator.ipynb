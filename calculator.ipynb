{
 "cells": [
  {
   "cell_type": "code",
   "execution_count": null,
   "id": "c512b908-88b9-4afb-b4b8-0f41f053a526",
   "metadata": {},
   "outputs": [],
   "source": [
    "import tkinter as tk\n",
    "\n",
    "class Calculator:\n",
    "    def __init__(self, master):\n",
    "        self.master = master\n",
    "        master.title(\"Calculator\")\n",
    "\n",
    "        self.entry = tk.Entry(master, width=30, justify='right', font=('Arial', 16))\n",
    "        self.entry.grid(row=0, column=0, columnspan=4, padx=10, pady=10)\n",
    "\n",
    "        self.create_button(\"1\", 1, 0)\n",
    "        self.create_button(\"2\", 1, 1)\n",
    "        self.create_button(\"3\", 1, 2)\n",
    "        self.create_button(\"4\", 2, 0)\n",
    "        self.create_button(\"5\", 2, 1)\n",
    "        self.create_button(\"6\", 2, 2)\n",
    "        self.create_button(\"7\", 3, 0)\n",
    "        self.create_button(\"8\", 3, 1)\n",
    "        self.create_button(\"9\", 3, 2)\n",
    "        self.create_button(\"0\", 4, 1)\n",
    "        self.create_button(\".\", 4, 2)\n",
    "\n",
    "        self.create_button(\"+\", 1, 3)\n",
    "        self.create_button(\"-\", 2, 3)\n",
    "        self.create_button(\"*\", 3, 3)\n",
    "        self.create_button(\"/\", 4, 3)\n",
    "\n",
    "        self.create_button(\"=\", 4, 0)\n",
    "        self.create_button(\"C\", 5, 0)\n",
    "        self.create_button(\"CE\", 5, 1)\n",
    "        self.create_button(\"(\", 5, 2)\n",
    "        self.create_button(\")\", 5, 3)\n",
    "\n",
    "    def create_button(self, text, row, column):\n",
    "        button = tk.Button(self.master, text=text, width=5, height=2, font=('Arial', 16), bg='white', fg='blue',command=lambda: self.button_click(text))\n",
    "        button.grid(row=row, column=column, padx=5, pady=5)\n",
    "\n",
    "    def button_click(self, text):\n",
    "        if text == \"=\":\n",
    "            try:\n",
    "                result = str(eval(self.entry.get()))\n",
    "                self.entry.delete(0, tk.END)\n",
    "                self.entry.insert(0, result)\n",
    "            except:\n",
    "                self.entry.delete(0, tk.END)\n",
    "                self.entry.insert(0, \"Error\")\n",
    "        elif text == \"C\":\n",
    "            self.entry.delete(0, tk.END)\n",
    "        elif text == \"CE\":\n",
    "            self.entry.delete(len(self.entry.get())-1, tk.END)\n",
    "        else:\n",
    "            self.entry.insert(tk.END, text)\n",
    "\n",
    "root = tk.Tk()\n",
    "calculator = Calculator(root)\n",
    "root.mainloop()"
   ]
  },
  {
   "cell_type": "code",
   "execution_count": null,
   "id": "2eeb3640-40b4-4d13-8be8-5bb596261b13",
   "metadata": {},
   "outputs": [],
   "source": []
  },
  {
   "cell_type": "code",
   "execution_count": null,
   "id": "7068e1f7-4ee9-45fc-b394-b0b3544dfd88",
   "metadata": {},
   "outputs": [],
   "source": []
  },
  {
   "cell_type": "code",
   "execution_count": null,
   "id": "d17e1c6c-0baf-40e3-a47a-2a9bf0c21413",
   "metadata": {},
   "outputs": [],
   "source": []
  }
 ],
 "metadata": {
  "kernelspec": {
   "display_name": "Python 3 (ipykernel)",
   "language": "python",
   "name": "python3"
  },
  "language_info": {
   "codemirror_mode": {
    "name": "ipython",
    "version": 3
   },
   "file_extension": ".py",
   "mimetype": "text/x-python",
   "name": "python",
   "nbconvert_exporter": "python",
   "pygments_lexer": "ipython3",
   "version": "3.11.7"
  }
 },
 "nbformat": 4,
 "nbformat_minor": 5
}
